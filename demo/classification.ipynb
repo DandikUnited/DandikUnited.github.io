{
 "cells": [
  {
   "cell_type": "code",
   "execution_count": 1,
   "metadata": {
    "collapsed": true
   },
   "outputs": [
    {
     "name": "stderr",
     "output_type": "stream",
     "text": [
      "Widget Javascript not detected.  It may not be installed or enabled properly.\n"
     ]
    },
    {
     "name": "stderr",
     "output_type": "stream",
     "text": [
      "Widget Javascript not detected.  It may not be installed or enabled properly.\n"
     ]
    },
    {
     "data": {
      "text/plain": [
       "<IPython.core.display.Javascript object>"
      ]
     },
     "execution_count": 0,
     "metadata": {},
     "output_type": "execute_result"
    },
    {
     "data": {
      "text/html": [
       "<div id='b15d4c8f-b7c9-4f24-9905-8c5534b19997'></div>"
      ],
      "text/plain": [
       "<div id='b15d4c8f-b7c9-4f24-9905-8c5534b19997'></div>"
      ]
     },
     "execution_count": 0,
     "metadata": {},
     "output_type": "execute_result"
    },
    {
     "name": "stderr",
     "output_type": "stream",
     "text": [
      "Widget Javascript not detected.  It may not be installed or enabled properly.\n"
     ]
    },
    {
     "name": "stderr",
     "output_type": "stream",
     "text": [
      "Widget Javascript not detected.  It may not be installed or enabled properly.\n"
     ]
    },
    {
     "name": "stderr",
     "output_type": "stream",
     "text": [
      "Widget Javascript not detected.  It may not be installed or enabled properly.\n"
     ]
    },
    {
     "name": "stderr",
     "output_type": "stream",
     "text": [
      "Widget Javascript not detected.  It may not be installed or enabled properly.\n"
     ]
    },
    {
     "name": "stderr",
     "output_type": "stream",
     "text": [
      "Widget Javascript not detected.  It may not be installed or enabled properly.\n"
     ]
    },
    {
     "name": "stderr",
     "output_type": "stream",
     "text": [
      "Widget Javascript not detected.  It may not be installed or enabled properly.\n"
     ]
    }
   ],
   "source": [
    "%matplotlib notebook\n",
    "import matplotlib.pyplot as plt\n",
    "from ipywidgets import *\n",
    "from IPython.display import display\n",
    "import helper\n",
    "from sklearn.svm import SVC\n",
    "from sklearn.model_selection import train_test_split\n",
    "plt.style.use('ggplot')\n",
    "\n",
    "sample_size = widgets.IntSlider(\n",
    "    value=50,\n",
    "    min=50,\n",
    "    max=1000,\n",
    "    step=1,\n",
    "    description='Sample size: ',\n",
    "    disabled=False,\n",
    "    continuous_update=False,\n",
    "    orientation='horizontal',\n",
    "    readout=True,\n",
    "    readout_format='.1f',\n",
    "    slider_color='white'\n",
    ")\n",
    "split_ratio = widgets.FloatSlider(\n",
    "    value=0.2,\n",
    "    min=0,\n",
    "    max=1.0,\n",
    "    step=0.1,\n",
    "    description='Train/Test Split Ratio (0-1): ',\n",
    "    disabled=False,\n",
    "    continuous_update=False,\n",
    "    orientation='horizontal',\n",
    "    readout=True,\n",
    "    readout_format='.1f',\n",
    "    slider_color='white'\n",
    ")\n",
    "c = widgets.FloatSlider(\n",
    "    value=0.1,\n",
    "    min=0.1,\n",
    "    max=10.0,\n",
    "    step=0.1,\n",
    "    description='C: ',\n",
    "    disabled=False,\n",
    "    continuous_update=False,\n",
    "    orientation='horizontal',\n",
    "    readout=True,\n",
    "    readout_format='.1f',\n",
    "    slider_color='white'\n",
    ")\n",
    "gamma = widgets.FloatSlider(\n",
    "    value=0.1,\n",
    "    min=0.1,\n",
    "    max=1,\n",
    "    step=0.1,\n",
    "    description='Gamma: ',\n",
    "    disabled=False,\n",
    "    continuous_update=False,\n",
    "    orientation='horizontal',\n",
    "    readout=True,\n",
    "    readout_format='.1f',\n",
    "    slider_color='white'\n",
    ")\n",
    "\n",
    "\n",
    "display(sample_size)\n",
    "\n",
    "\n",
    "#init plot\n",
    "data, labels, true_sep = helper.make_circle_classification_dataset(num_pts=sample_size.value)\n",
    "\n",
    "# preparing the plot\n",
    "#plot = helper.plot_data(data, labels, true_sep)\n",
    "\n",
    "\n",
    "clf = SVC(C=c.value,kernel='rbf',gamma=gamma.value)\n",
    "\n",
    "# fit classifier\n",
    "clf.fit(data, labels)\n",
    "\n",
    "# plot results\n",
    "fit_plot = helper.plot_data(data, labels, true_sep)\n",
    "helper.plot_approx(clf)\n",
    "\n",
    "\n",
    "def on_train_info_change(change):\n",
    "    clf = SVC(C=c.value, kernel='rbf', gamma=gamma.value)\n",
    "    \n",
    "    # fit classifier\n",
    "    clf.fit(data, labels)\n",
    "\n",
    "    # plot results\n",
    "    helper.update_plot_data(fit_plot, data, labels, true_sep)\n",
    "    helper.plot_approx(clf)\n",
    "    \n",
    "\n",
    "def on_value_change_sample(change):\n",
    "    global data\n",
    "    global labels\n",
    "    global true_sep\n",
    "\n",
    "    data, labels, true_sep = helper.make_circle_classification_dataset(num_pts=sample_size.value)\n",
    "    helper.update_plot_data(fit_plot, data, labels, true_sep)\n",
    "\n",
    "    clf = SVC(C=c.value,kernel='rbf',gamma=gamma.value)\n",
    "\n",
    "    # fit classifier\n",
    "    clf.fit(data, labels)\n",
    "    \n",
    "    # plot results\n",
    "    helper.update_plot_data(fit_plot, data, labels, true_sep)\n",
    "    helper.plot_approx(clf)\n",
    "\n",
    "sample_size.observe(on_value_change_sample, names='value')\n",
    "\n",
    "display(split_ratio)\n",
    "display(c)\n",
    "display(gamma)\n",
    "\n",
    "c.observe(on_train_info_change, names='value')\n",
    "gamma.observe(on_train_info_change, names='value')"
   ]
  },
  {
   "cell_type": "code",
   "execution_count": 1,
   "metadata": {},
   "outputs": [],
   "source": [
    ""
   ]
  },
  {
   "cell_type": "code",
   "execution_count": 1,
   "metadata": {},
   "outputs": [],
   "source": [
    ""
   ]
  },
  {
   "cell_type": "code",
   "execution_count": null,
   "metadata": {},
   "outputs": [],
   "source": [
    ""
   ]
  }
 ],
 "metadata": {
  "kernelspec": {
   "display_name": "Python 2",
   "language": "python",
   "name": "python2"
  },
  "language_info": {
   "codemirror_mode": {
    "name": "ipython",
    "version": 2.0
   },
   "file_extension": ".py",
   "mimetype": "text/x-python",
   "name": "python",
   "nbconvert_exporter": "python",
   "pygments_lexer": "ipython2",
   "version": "2.7.6"
  }
 },
 "nbformat": 4,
 "nbformat_minor": 0
}